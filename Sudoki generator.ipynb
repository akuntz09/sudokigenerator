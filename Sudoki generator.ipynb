{
 "cells": [
  {
   "cell_type": "code",
   "execution_count": 1,
   "metadata": {},
   "outputs": [
    {
     "name": "stdout",
     "output_type": "stream",
     "text": [
      "2\n",
      "1\n"
     ]
    }
   ],
   "source": [
    "#This is a Sudoku Puzzle Generator\n",
    "#Steven Garner \n",
    "31/7/2020\n",
    "\n",
    "\n",
    "import random\n",
    "number_array = random.randint(0,9)\n",
    "x = random.randint(0,1)\n",
    "numbers = [0,1,2,3,4,5,6,7,8,9]\n",
    "print(numbers[2])\n",
    "\n",
    "# grid=[1,2,3]\n",
    "# print(grid[0], grid[1], grid[2])\n",
    "# if x == grid[0]:\n",
    "\n",
    "    \n",
    "# def make_board():\n",
    "#     print(\"This is a board\")\n",
    "# make_board()\n",
    "\n",
    "\n",
    "sq1=[1]\n",
    "print(sq1[0])\n",
    "\n"
   ]
  },
  {
   "cell_type": "code",
   "execution_count": 2,
   "metadata": {},
   "outputs": [
    {
     "name": "stdout",
     "output_type": "stream",
     "text": [
      "3\n",
      "2\n",
      "3 Number is checked\n"
     ]
    }
   ],
   "source": [
    "#Make a checking number function\n",
    "import  random\n",
    "\n",
    "n = random.randint(1,3)\n",
    "print(n)\n",
    "num = (1, 2, 3)\n",
    "print(num[1])\n",
    "\n",
    "\n",
    "if n == num[0] or n == num[1] or n == num[2]:\n",
    "    print(n, \"Number is checked\")\n",
    "\n",
    "\n",
    "\n",
    "# for x in num:\n",
    "#     if x == num[1]:\n",
    "#         print(\"The number one was in this \")\n",
    "#         print(x)"
   ]
  },
  {
   "cell_type": "code",
   "execution_count": 2,
   "metadata": {},
   "outputs": [
    {
     "ename": "NameError",
     "evalue": "name 'z' is not defined",
     "output_type": "error",
     "traceback": [
      "\u001b[1;31m---------------------------------------------------------------------------\u001b[0m",
      "\u001b[1;31mNameError\u001b[0m                                 Traceback (most recent call last)",
      "\u001b[1;32m<ipython-input-2-d1810243caab>\u001b[0m in \u001b[0;36m<module>\u001b[1;34m()\u001b[0m\n\u001b[0;32m      1\u001b[0m \u001b[1;32mimport\u001b[0m \u001b[0mrandom\u001b[0m\u001b[1;33m\u001b[0m\u001b[0m\n\u001b[0;32m      2\u001b[0m \u001b[1;33m\u001b[0m\u001b[0m\n\u001b[1;32m----> 3\u001b[1;33m \u001b[0mprint\u001b[0m\u001b[1;33m(\u001b[0m\u001b[0mz\u001b[0m\u001b[1;33m)\u001b[0m\u001b[1;33m\u001b[0m\u001b[0m\n\u001b[0m\u001b[0;32m      4\u001b[0m \u001b[0mx\u001b[0m \u001b[1;33m=\u001b[0m \u001b[1;36m10\u001b[0m\u001b[1;33m\u001b[0m\u001b[0m\n\u001b[0;32m      5\u001b[0m \u001b[1;33m\u001b[0m\u001b[0m\n",
      "\u001b[1;31mNameError\u001b[0m: name 'z' is not defined"
     ]
    }
   ],
   "source": [
    "import random\n",
    "\n",
    "print(z)\n",
    "x = 10\n",
    "\n",
    "def cell(x):\n",
    "    print(x)\n",
    "    \n",
    "cell(4)\n",
    "def block(z):\n",
    "    print(\"Block\", x)\n",
    "    blocks=[1,2,3]\n",
    "    z = random.randint(1,3)\n",
    "    print(z, blocks[z:3])\n",
    "block(z)\n",
    "\n"
   ]
  },
  {
   "cell_type": "code",
   "execution_count": null,
   "metadata": {},
   "outputs": [],
   "source": [
    "#Check numbers \n",
    "import random\n",
    "number_array=[1,2,3]\n",
    "number_cell= [4,5,6]\n",
    "num = random.choice(number_array)\n",
    "if num == number_array[1]:\n",
    "    print(\"The same number was picked\")\n",
    "    \n",
    "    \n",
    "    \n",
    "print(num, \"The number picked was \")\n",
    "if True == x:\n",
    "    print(\"This is True\")\n",
    "else:\n",
    "    print(\"This is False\")"
   ]
  },
  {
   "cell_type": "code",
   "execution_count": null,
   "metadata": {},
   "outputs": [],
   "source": [
    "import random\n",
    "\n",
    "num_gen = random.randint(1,3)\n",
    "array_num=[]\n",
    "a = 1.5 + 0.5\n",
    "if a == 2:\n",
    "    def test():\n",
    "        i = 1\n",
    "        while i < 3:\n",
    "            array_num.append(i)\n",
    "            print(array_num, \"The number array\")\n",
    "            i += 1\n",
    "    test()"
   ]
  },
  {
   "cell_type": "code",
   "execution_count": null,
   "metadata": {},
   "outputs": [],
   "source": [
    "import random\n",
    "dice = random.randint(1,9)\n",
    "print(dice)\n",
    "i = 1\n",
    "\n",
    "number = [1,2,3,4]\n",
    "while i < 9:\n",
    "    print(\"Numbers\", i)\n",
    "\n",
    "    number.append(x)\n",
    "    print(number)\n",
    "    i += 1\n",
    "    for a in range(1,2):\n",
    "        print(a)\n",
    "    \n",
    "    "
   ]
  },
  {
   "cell_type": "code",
   "execution_count": null,
   "metadata": {},
   "outputs": [],
   "source": [
    "#Check number a == a number in array\n",
    "a = -1\n",
    "number_array=[1,2,3,4,5]\n",
    "\n",
    "\n",
    "if a == number_array[-1]:\n",
    "    print(\"This is\")\n",
    "    \n",
    "# while a < 10:\n",
    "#     print(a, \"The a number is\", number_array)\n",
    "#     a += 1"
   ]
  },
  {
   "cell_type": "code",
   "execution_count": null,
   "metadata": {},
   "outputs": [],
   "source": []
  },
  {
   "cell_type": "code",
   "execution_count": null,
   "metadata": {},
   "outputs": [],
   "source": [
    "b = 5\n",
    "\n",
    "check_num = b \n",
    "\n",
    "if check_num == b:\n",
    "    print(check_num, \"Check number is\")\n",
    "# while b < 10:\n",
    "\n",
    "#   for i in range(1,5):\n",
    "#     def test():\n",
    "#       print(\"Tested\", i)\n",
    "#     test()\n",
    "#     b += 1"
   ]
  },
  {
   "cell_type": "code",
   "execution_count": null,
   "metadata": {},
   "outputs": [],
   "source": [
    "# board set up\n",
    "\n",
    "board = {\n",
    "  1: 1,\n",
    "  2: 2,\n",
    "  3: 3}\n",
    "\n",
    "print(board[1])\n",
    "# board[\"year\"] = 2018\n",
    "# print(board.keys())\n",
    "\n",
    "# if board.key() == 1:\n",
    "#     print(\"Key has been found\")"
   ]
  },
  {
   "cell_type": "code",
   "execution_count": null,
   "metadata": {},
   "outputs": [],
   "source": [
    "board =\t{\n",
    "  1: 1,\n",
    "  2: 2,\n",
    "  3: 3,\n",
    "  4: 4,\n",
    "}\n",
    "\n",
    "\n",
    "number_left_over = \n",
    "print(board[4])\n",
    "\n",
    "if board[1] == 1 or board[2] == 2 or board[3] == 3:\n",
    "    print(\"Is in list\")"
   ]
  },
  {
   "cell_type": "code",
   "execution_count": null,
   "metadata": {},
   "outputs": [],
   "source": [
    "#checking cells for the correct numbers\n",
    "import random \n",
    "x =\n",
    "def check_number():\n",
    "    cell_1_1=[3]\n",
    "    cell_1_2=[3]\n",
    "    cell_1_3=[3]\n",
    "    if cell_1_1 == cell_1_2 or cell_1_3 == cell_1_2:\n",
    "        print(\"The same number has been picked\")\n",
    "    else:\n",
    "        print(\"Not the same number\")\n",
    "check_number()\n"
   ]
  },
  {
   "cell_type": "code",
   "execution_count": null,
   "metadata": {},
   "outputs": [],
   "source": [
    "#checking cells for the correct numbers\n",
    "import random \n",
    "a = 1\n",
    "while a < 3:\n",
    "    x = random.randint(1,3)\n",
    "    print(x, \"The number is \")\n",
    "a += 1\n",
    "# def check_number():\n",
    "#     cell_1_1=[x]\n",
    "#     cell_1_2=[x]\n",
    "#     cell_1_3=[x]\n",
    "#     if cell_1_1 == cell_1_2 or cell_1_3 == cell_1_2:\n",
    "#         print(\"The same number has been picked\", x)\n",
    "#     else:\n",
    "#         print(\"Not the same number\")\n",
    "# check_number()"
   ]
  },
  {
   "cell_type": "code",
   "execution_count": null,
   "metadata": {},
   "outputs": [],
   "source": [
    "i = 0\n",
    "while i < 6:\n",
    "  i += 1\n",
    "  if i == 2:\n",
    "    def to():\n",
    "      print(\"Two\")\n",
    "    to()\n",
    "    continue\n",
    "  print(i)\n"
   ]
  },
  {
   "cell_type": "code",
   "execution_count": null,
   "metadata": {},
   "outputs": [],
   "source": [
    "i = 2\n",
    "a = 0\n",
    "while i < 6:\n",
    " \n",
    "  if i == 2:\n",
    "    def to():\n",
    "      print(\"Two\")\n",
    "    \n",
    "      while a < 5:\n",
    "        print(\"hello\")\n",
    "    to()\n",
    "    \n",
    "      a += 1\n",
    "        \n",
    "    print(i) \n",
    "    i += 1\n"
   ]
  },
  {
   "cell_type": "code",
   "execution_count": 18,
   "metadata": {},
   "outputs": [
    {
     "name": "stdout",
     "output_type": "stream",
     "text": [
      "Test numbers\n",
      "Test numbers\n",
      "Test numbers\n"
     ]
    }
   ],
   "source": [
    "a = 2\n",
    "\n",
    "b = 3\n",
    "\n",
    "if a == b:\n",
    "    print(\"They are both the same\")\n",
    "number = 2\n",
    "while a < 5:\n",
    "    def test():\n",
    "        print(\"Test numbers\")\n",
    "    test()\n",
    "    b  = 1\n",
    "    \n",
    "    if number == 1:\n",
    "        while b < 3:\n",
    "            print(\"This is a while b loop\")\n",
    "            b += 1\n",
    "    a += 1"
   ]
  },
  {
   "cell_type": "code",
   "execution_count": 87,
   "metadata": {},
   "outputs": [
    {
     "name": "stdout",
     "output_type": "stream",
     "text": [
      "The number are the same\n",
      "1\n",
      "2\n",
      "3\n"
     ]
    }
   ],
   "source": [
    "#check to see if two numbers are the same\n",
    "import random\n",
    "x = random.randint(1,3)\n",
    "a = 2\n",
    "b = 2\n",
    "i = 2\n",
    "\n",
    "\n",
    "def check_number(x, a, b, i):\n",
    "    if x == a and x == b:\n",
    "        if i == a and i == b: # checks both number are not the same in the square\n",
    "            print(\"The number are the same\")\n",
    "    \n",
    "            for i in range(1,4):\n",
    "                print(i)\n",
    "        else: \n",
    "            print(\"Numbers are not the same\")\n",
    "check_number(x, a, b, i)\n",
    "\n",
    "print(\"The number x is \", x)"
   ]
  },
  {
   "cell_type": "code",
   "execution_count": 19,
   "metadata": {},
   "outputs": [
    {
     "name": "stdout",
     "output_type": "stream",
     "text": [
      "The number add to 45\n",
      "The lines or code are the same\n",
      "1 1\n",
      "0 1\n",
      "1 1\n",
      "2 1\n",
      "3 1\n",
      "4 1\n",
      "5 1\n",
      "6 1\n",
      "7 1\n",
      "8 1\n",
      "9 1\n"
     ]
    }
   ],
   "source": [
    "num = [1,2,3,4,5,6,7,8,9]\n",
    "line_1 = [1,2,3,4,5,6,7,8,9]\n",
    "line_2 = [1,2,3,4,5,6,7,8,9]\n",
    "\n",
    "if sum(num) == 45:\n",
    "    print(\"The number add to 45\")\n",
    "if line_1 == num:\n",
    "    print(\"The lines or code are the same\")\n",
    "else:\n",
    "    print(\"The lines of code are not the same\")\n",
    "print(line_1[0], line_2[0])\n",
    "\n",
    "for i in range(0,10):\n",
    "    print(i, line_1[0])\n",
    "    \n",
    "\n"
   ]
  },
  {
   "cell_type": "code",
   "execution_count": null,
   "metadata": {},
   "outputs": [],
   "source": []
  }
 ],
 "metadata": {
  "kernelspec": {
   "display_name": "Python 3",
   "language": "python",
   "name": "python3"
  }
 },
 "nbformat": 4,
 "nbformat_minor": 2
}
